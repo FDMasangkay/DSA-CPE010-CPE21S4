{
  "nbformat": 4,
  "nbformat_minor": 0,
  "metadata": {
    "colab": {
      "provenance": [],
      "authorship_tag": "ABX9TyP5SZ69plZMMXTH3u7uEhuV",
      "include_colab_link": true
    },
    "kernelspec": {
      "name": "python3",
      "display_name": "Python 3"
    },
    "language_info": {
      "name": "python"
    }
  },
  "cells": [
    {
      "cell_type": "markdown",
      "metadata": {
        "id": "view-in-github",
        "colab_type": "text"
      },
      "source": [
        "<a href=\"https://colab.research.google.com/github/FDMasangkay/DSA-CPE010-CPE21S4/blob/main/Exercise_2.ipynb\" target=\"_parent\"><img src=\"https://colab.research.google.com/assets/colab-badge.svg\" alt=\"Open In Colab\"/></a>"
      ]
    },
    {
      "cell_type": "code",
      "source": [
        "class Shapes():\n",
        "  def __init__ (self, length = 0 , width = 0, side = 0, base = 0, height = 0):\n",
        "    self.length = length\n",
        "    self.width = width\n",
        "    self.side = side\n",
        "    self.base = base\n",
        "    self.height = height\n",
        "\n",
        "\n",
        "class Rectangle (Shapes):\n",
        "  def Area_Rectangle (self):\n",
        "        return self.length * self.width\n",
        "\n",
        "class Square (Shapes):\n",
        "  def Area_Square (self):\n",
        "    return self.side ** 2\n",
        "\n",
        "class Triangle (Shapes):\n",
        "    def Area_Triangle (self):\n",
        "        return (self.base * self.height) / 2\n",
        "\n",
        "rectangle = Rectangle(length = 3, width = 4)\n",
        "square = Square (side = 3)\n",
        "triangle = Triangle(base = 2, height = 5)\n",
        "\n",
        "\n",
        "print(f\"Area of Rectangle: {rectangle.Area_Rectangle()}\")\n",
        "print(f\"Area of Square: {square.Area_Square()}\")\n",
        "print(f\"Area of Triangle: {triangle.Area_Triangle()}\")\n",
        "\n",
        "\n",
        "\n",
        "\n",
        "\n",
        "\n",
        "\n"
      ],
      "metadata": {
        "colab": {
          "base_uri": "https://localhost:8080/"
        },
        "id": "BNTZPP7F8483",
        "outputId": "bcd5dc62-bf87-4607-cf18-639e2cd2e03f"
      },
      "execution_count": 37,
      "outputs": [
        {
          "output_type": "stream",
          "name": "stdout",
          "text": [
            "Area of Rectangle: 12\n",
            "Area of Square: 9\n",
            "Area of Triangle: 5.0\n"
          ]
        }
      ]
    }
  ]
}